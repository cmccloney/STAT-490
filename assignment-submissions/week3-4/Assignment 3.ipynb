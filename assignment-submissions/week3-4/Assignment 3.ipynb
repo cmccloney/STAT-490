{
 "cells": [
  {
   "cell_type": "code",
   "execution_count": 5,
   "metadata": {},
   "outputs": [],
   "source": [
    "import pandas as pd\n",
    "import numpy as np\n",
    "import matplotlib.pyplot as plt\n",
    "import seaborn as sns\n",
    "import statsmodels.api as sm"
   ]
  },
  {
   "cell_type": "code",
   "execution_count": 52,
   "metadata": {},
   "outputs": [
    {
     "name": "stdout",
     "output_type": "stream",
     "text": [
      "   target_class_0  target_class_1\n",
      "0               1               0\n",
      "1               1               0\n",
      "2               1               0\n",
      "3               1               0\n",
      "4               1               0\n"
     ]
    }
   ],
   "source": [
    "pulsar_data = pd.read_csv('pulsar_stars.csv', delimiter=',')\n",
    "cols = pd.read_csv('pulsar_stars.csv', nrows=1).columns\n",
    "\n",
    "#print(pulsar_data.describe())\n",
    "dummy_ranks = pd.get_dummies(pulsar_data['target_class'],prefix='target_class')\n",
    "print(dummy_ranks.head())\n",
    "\n",
    "pulsar_data['intercept'] = 1.0"
   ]
  },
  {
   "cell_type": "code",
   "execution_count": 56,
   "metadata": {},
   "outputs": [
    {
     "name": "stdout",
     "output_type": "stream",
     "text": [
      "Optimization terminated successfully.\n",
      "         Current function value: 0.075602\n",
      "         Iterations 9\n"
     ]
    }
   ],
   "source": [
    "cols_to_keep = cols.values[:-1]\n",
    "data = pulsar_data[cols_to_keep].join(dummy_ranks.loc[:, 'target_class_1'])\n",
    "train_cols = data.columns[:-1]\n",
    "#print(train_cols)\n",
    "logit = sm.Logit(pulsar_data['target_class'], pulsar_data[train_cols])\n",
    "result = logit.fit()"
   ]
  },
  {
   "cell_type": "code",
   "execution_count": 59,
   "metadata": {},
   "outputs": [
    {
     "name": "stdout",
     "output_type": "stream",
     "text": [
      "                           Logit Regression Results                           \n",
      "==============================================================================\n",
      "Dep. Variable:           target_class   No. Observations:                17898\n",
      "Model:                          Logit   Df Residuals:                    17890\n",
      "Method:                           MLE   Df Model:                            7\n",
      "Date:                Tue, 24 Sep 2019   Pseudo R-squ.:                  0.7531\n",
      "Time:                        20:55:19   Log-Likelihood:                -1353.1\n",
      "converged:                       True   LL-Null:                       -5479.8\n",
      "Covariance Type:            nonrobust   LLR p-value:                     0.000\n",
      "=================================================================================================================\n",
      "                                                    coef    std err          z      P>|z|      [0.025      0.975]\n",
      "-----------------------------------------------------------------------------------------------------------------\n",
      " Mean of the integrated profile                  -0.0013      0.005     -0.259      0.796      -0.011       0.008\n",
      " Standard deviation of the integrated profile    -0.0644      0.010     -6.501      0.000      -0.084      -0.045\n",
      " Excess kurtosis of the integrated profile        5.2467      0.243     21.621      0.000       4.771       5.722\n",
      " Skewness of the integrated profile              -0.5475      0.032    -17.080      0.000      -0.610      -0.485\n",
      " Mean of the DM-SNR curve                        -0.0307      0.003     -9.723      0.000      -0.037      -0.025\n",
      " Standard deviation of the DM-SNR curve           0.0147      0.006      2.378      0.017       0.003       0.027\n",
      " Excess kurtosis of the DM-SNR curve             -0.4851      0.062     -7.787      0.000      -0.607      -0.363\n",
      " Skewness of the DM-SNR curve                     0.0115      0.002      5.117      0.000       0.007       0.016\n",
      "=================================================================================================================\n",
      "                                                      0         1\n",
      " Mean of the integrated profile               -0.010752  0.008246\n",
      " Standard deviation of the integrated profile -0.083805 -0.044980\n",
      " Excess kurtosis of the integrated profile     4.771123  5.722345\n",
      " Skewness of the integrated profile           -0.610352 -0.484692\n",
      " Mean of the DM-SNR curve                     -0.036891 -0.024514\n",
      " Standard deviation of the DM-SNR curve        0.002590  0.026862\n",
      " Excess kurtosis of the DM-SNR curve          -0.607201 -0.363011\n",
      " Skewness of the DM-SNR curve                  0.007068  0.015844\n"
     ]
    }
   ],
   "source": [
    "print(result.summary())\n",
    "print(result.conf_int())"
   ]
  },
  {
   "cell_type": "code",
   "execution_count": null,
   "metadata": {},
   "outputs": [],
   "source": []
  }
 ],
 "metadata": {
  "kernelspec": {
   "display_name": "Python 3",
   "language": "python",
   "name": "python3"
  },
  "language_info": {
   "codemirror_mode": {
    "name": "ipython",
    "version": 3
   },
   "file_extension": ".py",
   "mimetype": "text/x-python",
   "name": "python",
   "nbconvert_exporter": "python",
   "pygments_lexer": "ipython3",
   "version": "3.7.0"
  }
 },
 "nbformat": 4,
 "nbformat_minor": 2
}
