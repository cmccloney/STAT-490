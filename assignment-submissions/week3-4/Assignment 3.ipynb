{
 "cells": [
  {
   "cell_type": "code",
   "execution_count": 1,
   "metadata": {},
   "outputs": [],
   "source": [
    "import pandas as pd\n",
    "import numpy as np\n",
    "import matplotlib.pyplot as plt\n",
    "import seaborn as sns\n",
    "import statsmodels.api as sm"
   ]
  },
  {
   "cell_type": "code",
   "execution_count": 2,
   "metadata": {},
   "outputs": [
    {
     "name": "stdout",
     "output_type": "stream",
     "text": [
      "   target_class_0  target_class_1\n",
      "0               1               0\n",
      "1               1               0\n",
      "2               1               0\n",
      "3               1               0\n",
      "4               1               0\n"
     ]
    }
   ],
   "source": [
    "pulsar_data = pd.read_csv('pulsar_stars.csv', delimiter=',')\n",
    "#get column names from dataset\n",
    "cols = pd.read_csv('pulsar_stars.csv', nrows=1).columns\n",
    "\n",
    "#turn target_class into a 'dummy' variable\n",
    "dummy_ranks = pd.get_dummies(pulsar_data['target_class'],prefix='target_class')\n",
    "print(dummy_ranks.head())\n",
    "\n",
    "#create intercept column\n",
    "pulsar_data['intercept'] = 1.0"
   ]
  },
  {
   "cell_type": "code",
   "execution_count": 3,
   "metadata": {},
   "outputs": [
    {
     "name": "stdout",
     "output_type": "stream",
     "text": [
      "Optimization terminated successfully.\n",
      "         Current function value: 0.075602\n",
      "         Iterations 9\n"
     ]
    }
   ],
   "source": [
    "#remove target_class from columns, so we can use the remaining ones as predictors\n",
    "cols_to_keep = cols.values[:-1]\n",
    "#join dummy variable column with other predictor columns\n",
    "data = pulsar_data[cols_to_keep].join(dummy_ranks.loc[:, 'target_class_1'])\n",
    "#all columns except target_class go into train_cols\n",
    "train_cols = data.columns[:-1]\n",
    "#create a logistical regression model\n",
    "logit = sm.Logit(pulsar_data['target_class'], pulsar_data[train_cols])\n",
    "result = logit.fit()"
   ]
  },
  {
   "cell_type": "code",
   "execution_count": 4,
   "metadata": {},
   "outputs": [
    {
     "name": "stdout",
     "output_type": "stream",
     "text": [
      "                           Logit Regression Results                           \n",
      "==============================================================================\n",
      "Dep. Variable:           target_class   No. Observations:                17898\n",
      "Model:                          Logit   Df Residuals:                    17890\n",
      "Method:                           MLE   Df Model:                            7\n",
      "Date:                Thu, 26 Sep 2019   Pseudo R-squ.:                  0.7531\n",
      "Time:                        20:42:55   Log-Likelihood:                -1353.1\n",
      "converged:                       True   LL-Null:                       -5479.8\n",
      "Covariance Type:            nonrobust   LLR p-value:                     0.000\n",
      "=================================================================================================================\n",
      "                                                    coef    std err          z      P>|z|      [0.025      0.975]\n",
      "-----------------------------------------------------------------------------------------------------------------\n",
      " Mean of the integrated profile                  -0.0013      0.005     -0.259      0.796      -0.011       0.008\n",
      " Standard deviation of the integrated profile    -0.0644      0.010     -6.501      0.000      -0.084      -0.045\n",
      " Excess kurtosis of the integrated profile        5.2467      0.243     21.621      0.000       4.771       5.722\n",
      " Skewness of the integrated profile              -0.5475      0.032    -17.080      0.000      -0.610      -0.485\n",
      " Mean of the DM-SNR curve                        -0.0307      0.003     -9.723      0.000      -0.037      -0.025\n",
      " Standard deviation of the DM-SNR curve           0.0147      0.006      2.378      0.017       0.003       0.027\n",
      " Excess kurtosis of the DM-SNR curve             -0.4851      0.062     -7.787      0.000      -0.607      -0.363\n",
      " Skewness of the DM-SNR curve                     0.0115      0.002      5.117      0.000       0.007       0.016\n",
      "=================================================================================================================\n",
      "                                                      0         1\n",
      " Mean of the integrated profile               -0.010752  0.008246\n",
      " Standard deviation of the integrated profile -0.083805 -0.044980\n",
      " Excess kurtosis of the integrated profile     4.771123  5.722345\n",
      " Skewness of the integrated profile           -0.610352 -0.484692\n",
      " Mean of the DM-SNR curve                     -0.036891 -0.024514\n",
      " Standard deviation of the DM-SNR curve        0.002590  0.026862\n",
      " Excess kurtosis of the DM-SNR curve          -0.607201 -0.363011\n",
      " Skewness of the DM-SNR curve                  0.007068  0.015844\n"
     ]
    }
   ],
   "source": [
    "print(result.summary())\n",
    "print(result.conf_int())"
   ]
  },
  {
   "cell_type": "code",
   "execution_count": 5,
   "metadata": {},
   "outputs": [
    {
     "name": "stdout",
     "output_type": "stream",
     "text": [
      " Mean of the integrated profile                    0.998748\n",
      " Standard deviation of the integrated profile      0.937637\n",
      " Excess kurtosis of the integrated profile       189.944927\n",
      " Skewness of the integrated profile                0.578381\n",
      " Mean of the DM-SNR curve                          0.969764\n",
      " Standard deviation of the DM-SNR curve            1.014835\n",
      " Excess kurtosis of the DM-SNR curve               0.615632\n",
      " Skewness of the DM-SNR curve                      1.011522\n",
      "dtype: float64\n"
     ]
    }
   ],
   "source": [
    "#odds ratios\n",
    "print(np.exp(result.params))"
   ]
  },
  {
   "cell_type": "code",
   "execution_count": 6,
   "metadata": {},
   "outputs": [
    {
     "name": "stdout",
     "output_type": "stream",
     "text": [
      "                                                     2.5%       97.5%  \\\n",
      " Mean of the integrated profile                  0.989306    1.008280   \n",
      " Standard deviation of the integrated profile    0.919611    0.956017   \n",
      " Excess kurtosis of the integrated profile     118.051740  305.620869   \n",
      " Skewness of the integrated profile              0.543160    0.615887   \n",
      " Mean of the DM-SNR curve                        0.963781    0.975784   \n",
      " Standard deviation of the DM-SNR curve          1.002593    1.027226   \n",
      " Excess kurtosis of the DM-SNR curve             0.544874    0.695579   \n",
      " Skewness of the DM-SNR curve                    1.007093    1.015970   \n",
      "\n",
      "                                                       OR  \n",
      " Mean of the integrated profile                  0.998748  \n",
      " Standard deviation of the integrated profile    0.937637  \n",
      " Excess kurtosis of the integrated profile     189.944927  \n",
      " Skewness of the integrated profile              0.578381  \n",
      " Mean of the DM-SNR curve                        0.969764  \n",
      " Standard deviation of the DM-SNR curve          1.014835  \n",
      " Excess kurtosis of the DM-SNR curve             0.615632  \n",
      " Skewness of the DM-SNR curve                    1.011522  \n"
     ]
    }
   ],
   "source": [
    "params = result.params\n",
    "conf = result.conf_int()\n",
    "conf['OR'] = params\n",
    "conf.columns = ['2.5%', '97.5%', 'OR']\n",
    "#get odds ratios and conf ints\n",
    "print(np.exp(conf))"
   ]
  },
  {
   "cell_type": "code",
   "execution_count": 41,
   "metadata": {},
   "outputs": [
    {
     "name": "stdout",
     "output_type": "stream",
     "text": [
      "LinearDiscriminantAnalysis(n_components=None, priors=None, shrinkage=None,\n",
      "                           solver='svd', store_covariance=False, tol=0.0001)\n",
      "[0]\n"
     ]
    }
   ],
   "source": [
    "#LDA\n",
    "from sklearn.preprocessing import LabelEncoder\n",
    "from sklearn.discriminant_analysis import LinearDiscriminantAnalysis\n",
    "\n",
    "y = pulsar_data['target_class']\n",
    "X = pulsar_data[cols_to_keep]\n",
    "\n",
    "#fit LDA\n",
    "sklearn_lda = LinearDiscriminantAnalysis()\n",
    "print(sklearn_lda.fit(X,y))\n",
    "#sample prediction, one value for each predictor variable\n",
    "print(sklearn_lda.predict([[1,1,1,1,1,1,1,1]]))"
   ]
  },
  {
   "cell_type": "code",
   "execution_count": 39,
   "metadata": {},
   "outputs": [
    {
     "name": "stdout",
     "output_type": "stream",
     "text": [
      "QuadraticDiscriminantAnalysis(priors=None, reg_param=0.0,\n",
      "                              store_covariance=False, tol=0.0001)\n",
      "[0]\n"
     ]
    }
   ],
   "source": [
    "from sklearn.discriminant_analysis import QuadraticDiscriminantAnalysis\n",
    "#fit QDA\n",
    "sklearn_qda = QuadraticDiscriminantAnalysis()\n",
    "print(sklearn_qda.fit(X,y))\n",
    "#sample prediction\n",
    "print(sklearn_qda.predict([[1,1,1,1,1,1,1,1]]))"
   ]
  },
  {
   "cell_type": "code",
   "execution_count": 38,
   "metadata": {},
   "outputs": [
    {
     "name": "stdout",
     "output_type": "stream",
     "text": [
      "KNeighborsClassifier(algorithm='auto', leaf_size=30, metric='minkowski',\n",
      "                     metric_params=None, n_jobs=None, n_neighbors=200, p=2,\n",
      "                     weights='distance')\n",
      "[1]\n"
     ]
    }
   ],
   "source": [
    "#KNN\n",
    "from sklearn import neighbors\n",
    "\n",
    "n_neighbors = 200\n",
    "clf = neighbors.KNeighborsClassifier(n_neighbors, weights='distance')\n",
    "print(clf.fit(X,y))\n",
    "#predicts 1 vs LDA and QDA predicting 0\n",
    "print(clf.predict([[1,1,1,1,1,1,1,1]]))"
   ]
  },
  {
   "cell_type": "code",
   "execution_count": null,
   "metadata": {},
   "outputs": [],
   "source": []
  }
 ],
 "metadata": {
  "kernelspec": {
   "display_name": "Python 3",
   "language": "python",
   "name": "python3"
  },
  "language_info": {
   "codemirror_mode": {
    "name": "ipython",
    "version": 3
   },
   "file_extension": ".py",
   "mimetype": "text/x-python",
   "name": "python",
   "nbconvert_exporter": "python",
   "pygments_lexer": "ipython3",
   "version": "3.7.0"
  }
 },
 "nbformat": 4,
 "nbformat_minor": 2
}
